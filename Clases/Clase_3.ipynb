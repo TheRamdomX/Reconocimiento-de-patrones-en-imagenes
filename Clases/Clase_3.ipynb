{
 "cells": [
  {
   "cell_type": "markdown",
   "id": "4d21d5cf",
   "metadata": {},
   "source": [
    "# Clase 3 - Reconocimiento de Patrones en Imagenes\n",
    "\n",
    "## Momento\n",
    "El momento espacial de una imagen es una medida que describe la distribución de los píxeles activos (valor 1) en la imagen. Se calcula para diferentes órdenes \\((r, s)\\), donde \\(r\\) y \\(s\\) representan las potencias a las que se elevan las coordenadas \\(i\\) y \\(j\\) de los píxeles activos. Este cálculo es útil para analizar propiedades geométricas de la imagen, como su área, centroide y orientación."
   ]
  },
  {
   "cell_type": "code",
   "execution_count": 2,
   "id": "340d1d3c",
   "metadata": {},
   "outputs": [
    {
     "data": {
      "image/png": "[encoded data removed]",
      "text/plain": [
       "<Figure size 640x480 with 1 Axes>"
      ]
     },
     "metadata": {},
     "output_type": "display_data"
    }
   ],
   "source": [
    "import numpy as np\n",
    "import matplotlib.pyplot as plt\n",
    "\n",
    "m = [[0, 0, 0, 0, 0, 0],\n",
    "     [0, 0, 1, 0, 0, 0],\n",
    "     [0, 1, 1, 1, 1, 0],\n",
    "     [0, 0, 1, 0, 1, 0],\n",
    "     [0, 0, 0, 0, 0, 0],\n",
    "     [0, 0, 0, 0, 0, 0]]\n",
    "\n",
    "m = np.array(m) \n",
    "\n",
    "def Momento (r, s, img):\n",
    "    R = np.argwhere(img==1)\n",
    "    #print(R)\n",
    "    i = R[:,0]\n",
    "    #print(i)\n",
    "    j = R[:,1]\n",
    "    #print(j)\n",
    "\n",
    "    return np.sum((i**r) * (j**s))\n",
    "\n",
    "\n",
    "plt.figure()\n",
    "plt.imshow(m, cmap='gray')\n",
    "plt.show()\n"
   ]
  },
  {
   "cell_type": "markdown",
   "id": "6ada707f",
   "metadata": {},
   "source": [
    "## Centro de Masa\n",
    "El centro de masa de una imagen es el punto promedio de distribución de los píxeles activos (valor 1). Se calcula utilizando los momentos espaciales de primer orden \\(M_{10}\\) y \\(M_{01}\\), divididos por el momento de orden cero \\(M_{00}\\), que representa el área total de los píxeles activos. Este punto es útil para identificar la posición central de una forma en la imagen."
   ]
  },
  {
   "cell_type": "code",
   "execution_count": 3,
   "id": "a7c738ed",
   "metadata": {},
   "outputs": [
    {
     "data": {
      "image/png": "[encoded data removed]",
      "text/plain": [
       "<Figure size 640x480 with 1 Axes>"
      ]
     },
     "metadata": {},
     "output_type": "display_data"
    }
   ],
   "source": [
    "\n",
    "centro = [Momento(1,0,m)/ Momento(0,0,m) , Momento(0,1,m)/ Momento(0,0,m)]\n",
    "\n",
    "plt.figure()\n",
    "plt.imshow(m, cmap='gray')\n",
    "plt.scatter(centro[1], centro[0], c='red', s=50)\n",
    "plt.show()"
   ]
  },
  {
   "cell_type": "markdown",
   "id": "73138184",
   "metadata": {},
   "source": [
    "## Momento Central\n",
    "El momento centralizado se calcula tomando como referencia el centro de masa de la imagen. Esto permite obtener una medida que es independiente de la posición de la forma en la imagen. Los momentos centralizados son útiles para describir características geométricas de la forma, como su simetría y orientación, de manera más robusta."
   ]
  },
  {
   "cell_type": "code",
   "execution_count": 6,
   "id": "0c39dee0",
   "metadata": {},
   "outputs": [
    {
     "name": "stdout",
     "output_type": "stream",
     "text": [
      "7.0\n"
     ]
    }
   ],
   "source": [
    "def Momento_central(r, s, img):\n",
    "    \n",
    "    R = np.argwhere(img==1)\n",
    "    i = R[:,0]\n",
    "    j = R[:,1]\n",
    "    i0 = Momento(1,0,img)/ Momento(0,0,img)\n",
    "    j0 = Momento(0,1,img)/ Momento(0,0,img)\n",
    "\n",
    "    return np.sum((i - i0)**r * (j - j0)**s)\n",
    "\n",
    "print(Momento_central(0,0,m))\n",
    "\n"
   ]
  },
  {
   "cell_type": "markdown",
   "id": "50e9f2c8",
   "metadata": {},
   "source": [
    "## Momento de Hu\n",
    "Los momentos invariantes de Hu son un conjunto de características calculadas a partir de los momentos centralizados de una imagen. Estas características son invariantes a transformaciones como traslación, escala y rotación, lo que las hace útiles para el reconocimiento de patrones y análisis de formas. En este caso, se implementa una fórmula para calcular estos momentos y describir propiedades invariantes de la imagen."
   ]
  },
  {
   "cell_type": "code",
   "execution_count": 5,
   "id": "09cb0572",
   "metadata": {},
   "outputs": [
    {
     "name": "stdout",
     "output_type": "stream",
     "text": [
      "0.21574344023323616\n"
     ]
    }
   ],
   "source": [
    "def Momento_Hu (r, s, img):\n",
    "    t= (r+s)/2 + 1\n",
    "    return Momento_central(r,s,img) / Momento_central(0,0,img)**t\n",
    "\n",
    "print(Momento_Hu(2,0,m) + Momento_Hu(0,2,m))\n"
   ]
  }
 ],
 "metadata": {
  "kernelspec": {
   "display_name": "myenv",
   "language": "python",
   "name": "python3"
  },
  "language_info": {
   "codemirror_mode": {
    "name": "ipython",
    "version": 3
   },
   "file_extension": ".py",
   "mimetype": "text/x-python",
   "name": "python",
   "nbconvert_exporter": "python",
   "pygments_lexer": "ipython3",
   "version": "3.12.3"
  }
 },
 "nbformat": 4,
 "nbformat_minor": 5
}
